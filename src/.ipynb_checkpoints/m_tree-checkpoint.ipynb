{
 "cells": [
  {
   "cell_type": "code",
   "execution_count": 18,
   "metadata": {},
   "outputs": [
    {
     "name": "stdout",
     "output_type": "stream",
     "text": [
      "Shape:  (1009, 5)\n"
     ]
    }
   ],
   "source": [
    "import pickle\n",
    "import datetime as dt\n",
    "import matplotlib.pyplot as plt\n",
    "from matplotlib import style\n",
    "import pandas as pd\n",
    "import pandas_datareader.data as web\n",
    "import numpy as np\n",
    "\n",
    "style.use('ggplot')\n",
    "\n",
    "kosdaq = pickle.load(open('./kosdaq.pickle')) \n",
    "kospi = pickle.load(open('./kospi.pickle')) \n",
    "\n",
    "\n",
    "'''\n",
    "start = dt.datetime(2013, 1, 1)\n",
    "end = dt.datetime(2016, 12, 31)\n",
    "\n",
    "df = web.DataReader('AAPL', \"yahoo\", start, end)\n",
    "\n",
    "#print(df.head())\n",
    "\n",
    "keep_col = ['Open', 'High', 'Low', 'Volume', 'Close'] # except 'Date', 'Adj Close'\n",
    "\n",
    "new_df = df[keep_col][:]\n",
    "\n",
    "new_df.to_csv(\"inputs.csv\", index=False, header=False)\n",
    "\n",
    "\n",
    "print \"Shape: \", np.array(new_df).shape\n",
    "\n",
    "'''\n"
   ]
  },
  {
   "cell_type": "code",
   "execution_count": null,
   "metadata": {},
   "outputs": [],
   "source": []
  }
 ],
 "metadata": {
  "kernelspec": {
   "display_name": "Python 2",
   "language": "python",
   "name": "python2"
  },
  "language_info": {
   "codemirror_mode": {
    "name": "ipython",
    "version": 2
   },
   "file_extension": ".py",
   "mimetype": "text/x-python",
   "name": "python",
   "nbconvert_exporter": "python",
   "pygments_lexer": "ipython2",
   "version": "2.7.12"
  }
 },
 "nbformat": 4,
 "nbformat_minor": 2
}
