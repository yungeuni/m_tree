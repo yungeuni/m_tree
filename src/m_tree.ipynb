{
 "cells": [
  {
   "cell_type": "code",
   "execution_count": 44,
   "metadata": {},
   "outputs": [
    {
     "name": "stdout",
     "output_type": "stream",
     "text": [
      "                  Open        High         Low       Close   Adj Close  \\\n",
      "Date                                                                     \n",
      "2014-12-31  223.089996  225.679993  222.250000  222.410004  222.410004   \n",
      "2015-01-02  222.869995  223.250000  213.259995  219.309998  219.309998   \n",
      "2015-01-05  214.550003  216.500000  207.160004  210.089996  210.089996   \n",
      "2015-01-06  210.059998  214.199997  204.210007  211.279999  211.279999   \n",
      "2015-01-07  213.350006  214.779999  209.779999  210.949997  210.949997   \n",
      "\n",
      "             Volume  \n",
      "Date                 \n",
      "2014-12-31  2402100  \n",
      "2015-01-02  4764400  \n",
      "2015-01-05  5368500  \n",
      "2015-01-06  6261900  \n",
      "2015-01-07  2968400  \n"
     ]
    }
   ],
   "source": [
    "import datetime as dt\n",
    "import matplotlib.pyplot as plt\n",
    "from matplotlib import style\n",
    "import pandas as pd\n",
    "import pandas_datareader.data as web\n",
    "\n",
    "style.use('ggplot')\n",
    "\n",
    "start = dt.datetime(2015, 1, 1)\n",
    "end = dt.datetime(2016, 12, 31)\n",
    "\n",
    "df = web.DataReader('TSLA', \"yahoo\", start, end)\n",
    "\n",
    "print(df.head())\n",
    "web.DataReader('TSLA', \"yahoo\", start, end).to_csv('inputs_tmp.csv')\n"
   ]
  },
  {
   "cell_type": "code",
   "execution_count": 52,
   "metadata": {},
   "outputs": [
    {
     "ename": "TypeError",
     "evalue": "to_json() got an unexpected keyword argument 'Date'",
     "output_type": "error",
     "traceback": [
      "\u001b[0;31m---------------------------------------------------------------------------\u001b[0m",
      "\u001b[0;31mTypeError\u001b[0m                                 Traceback (most recent call last)",
      "\u001b[0;32m<ipython-input-52-7cea3fc32838>\u001b[0m in \u001b[0;36m<module>\u001b[0;34m()\u001b[0m\n\u001b[1;32m      4\u001b[0m \u001b[0;31m#inputs.append(df['Date'])\u001b[0m\u001b[0;34m\u001b[0m\u001b[0;34m\u001b[0m\u001b[0m\n\u001b[1;32m      5\u001b[0m \u001b[0;34m\u001b[0m\u001b[0m\n\u001b[0;32m----> 6\u001b[0;31m \u001b[0;32mprint\u001b[0m \u001b[0mdf\u001b[0m\u001b[0;34m.\u001b[0m\u001b[0mto_json\u001b[0m\u001b[0;34m(\u001b[0m\u001b[0mDate\u001b[0m\u001b[0;34m=\u001b[0m\u001b[0;34m\"2014-12-31\"\u001b[0m\u001b[0;34m,\u001b[0m \u001b[0mdate_format\u001b[0m\u001b[0;34m=\u001b[0m\u001b[0;34m'iso'\u001b[0m\u001b[0;34m)\u001b[0m\u001b[0;34m\u001b[0m\u001b[0m\n\u001b[0m\u001b[1;32m      7\u001b[0m \u001b[0;34m\u001b[0m\u001b[0m\n\u001b[1;32m      8\u001b[0m \u001b[0;34m\u001b[0m\u001b[0m\n",
      "\u001b[0;31mTypeError\u001b[0m: to_json() got an unexpected keyword argument 'Date'"
     ]
    }
   ],
   "source": [
    "\n",
    "#inputs = []\n",
    "\n",
    "#inputs.append(df['Date'])\n",
    "\n",
    "print df.to_json(Date=\"2014-12-31\", date_format='iso') \n",
    "\n",
    "\n"
   ]
  }
 ],
 "metadata": {
  "kernelspec": {
   "display_name": "Python 2",
   "language": "python",
   "name": "python2"
  },
  "language_info": {
   "codemirror_mode": {
    "name": "ipython",
    "version": 2
   },
   "file_extension": ".py",
   "mimetype": "text/x-python",
   "name": "python",
   "nbconvert_exporter": "python",
   "pygments_lexer": "ipython2",
   "version": "2.7.12"
  }
 },
 "nbformat": 4,
 "nbformat_minor": 2
}
