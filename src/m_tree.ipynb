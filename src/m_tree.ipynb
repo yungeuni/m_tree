{
 "cells": [
  {
   "cell_type": "code",
   "execution_count": 29,
   "metadata": {
    "scrolled": true
   },
   "outputs": [
    {
     "name": "stdout",
     "output_type": "stream",
     "text": [
      "0.22.0\n"
     ]
    },
    {
     "data": {
      "text/plain": [
       "'\\nimport pickle\\n\\n\\nkosdaq = pickle.load(open(\\'./kosdaq.pickle\\')) \\nkospi = pickle.load(open(\\'./kospi.pickle\\')) \\n\\n\\nimport datetime as dt\\nimport matplotlib.pyplot as plt\\nfrom matplotlib import style\\nimport pandas as pd\\nimport pandas_datareader.data as web\\nimport numpy as np\\n\\n\\nstyle.use(\\'ggplot\\')\\n\\n\\nstart = dt.datetime(2013, 1, 1)\\nend = dt.datetime(2016, 12, 31)\\n\\ndf = web.DataReader(\\'AAPL\\', \"yahoo\", start, end)\\n\\n#print(df.head())\\n\\nkeep_col = [\\'Open\\', \\'High\\', \\'Low\\', \\'Volume\\', \\'Close\\'] # except \\'Date\\', \\'Adj Close\\'\\n\\nnew_df = df[keep_col][:]\\n\\nnew_df.to_csv(\"inputs.csv\", index=False, header=False)\\n\\n\\nprint \"Shape: \", np.array(new_df).shape\\n\\n'"
      ]
     },
     "execution_count": 29,
     "metadata": {},
     "output_type": "execute_result"
    }
   ],
   "source": [
    "import pandas as pd\n",
    "\n",
    "print pd.__version__\n",
    "\n",
    "\n",
    "\n",
    "\n",
    "'''\n",
    "import pickle\n",
    "\n",
    "\n",
    "kosdaq = pickle.load(open('./kosdaq.pickle')) \n",
    "kospi = pickle.load(open('./kospi.pickle')) \n",
    "\n",
    "\n",
    "import datetime as dt\n",
    "import matplotlib.pyplot as plt\n",
    "from matplotlib import style\n",
    "import pandas as pd\n",
    "import pandas_datareader.data as web\n",
    "import numpy as np\n",
    "\n",
    "\n",
    "style.use('ggplot')\n",
    "\n",
    "\n",
    "start = dt.datetime(2013, 1, 1)\n",
    "end = dt.datetime(2016, 12, 31)\n",
    "\n",
    "df = web.DataReader('AAPL', \"yahoo\", start, end)\n",
    "\n",
    "#print(df.head())\n",
    "\n",
    "keep_col = ['Open', 'High', 'Low', 'Volume', 'Close'] # except 'Date', 'Adj Close'\n",
    "\n",
    "new_df = df[keep_col][:]\n",
    "\n",
    "new_df.to_csv(\"inputs.csv\", index=False, header=False)\n",
    "\n",
    "\n",
    "print \"Shape: \", np.array(new_df).shape\n",
    "\n",
    "'''\n"
   ]
  },
  {
   "cell_type": "code",
   "execution_count": null,
   "metadata": {},
   "outputs": [],
   "source": []
  }
 ],
 "metadata": {
  "kernelspec": {
   "display_name": "Python 2",
   "language": "python",
   "name": "python2"
  },
  "language_info": {
   "codemirror_mode": {
    "name": "ipython",
    "version": 2
   },
   "file_extension": ".py",
   "mimetype": "text/x-python",
   "name": "python",
   "nbconvert_exporter": "python",
   "pygments_lexer": "ipython2",
   "version": "2.7.12"
  }
 },
 "nbformat": 4,
 "nbformat_minor": 2
}
